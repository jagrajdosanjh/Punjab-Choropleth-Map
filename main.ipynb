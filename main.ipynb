{
 "cells": [
  {
   "cell_type": "code",
   "execution_count": 41,
   "metadata": {},
   "outputs": [],
   "source": [
    "import pandas as pd\n",
    "import json\n",
    "import plotly.express as px\n",
    "import plotly.io as pio\n",
    "pio.renderers.default = \"browser\" # if it doesn't show up, all you can do is remove this line and the one before, then rerun the notebook"
   ]
  },
  {
   "cell_type": "code",
   "execution_count": 42,
   "metadata": {},
   "outputs": [],
   "source": [
    "punjab_districts = json.load(open(\"punjabHigh.json\", \"r\")) # r as in read"
   ]
  },
  {
   "cell_type": "code",
   "execution_count": 43,
   "metadata": {},
   "outputs": [],
   "source": [
    "state_id_map = {}\n",
    "for feature in punjab_districts['features']:\n",
    "    feature['id'] = feature['properties']['id']\n",
    "    state_id_map[feature['properties']['name']] = feature['id']"
   ]
  },
  {
   "cell_type": "code",
   "execution_count": 44,
   "metadata": {},
   "outputs": [
    {
     "data": {
      "text/plain": [
       "{'Amritsar': 'Amritsar',\n",
       " 'Barnala': 'Barnala',\n",
       " 'Bathinda': 'Bathinda',\n",
       " 'Faridkot': 'Faridkot',\n",
       " 'Fatehgarh Sahib': 'Fatehgarh Sahib',\n",
       " 'Fazilka': 'Fazilka',\n",
       " 'Firozpur': 'Firozpur',\n",
       " 'Gurdaspur': 'Gurdaspur',\n",
       " 'Hoshiarpur': 'Hoshiarpur',\n",
       " 'Jalandhar': 'Jalandhar',\n",
       " 'Kapurthala': 'Kapurthala',\n",
       " 'Ludhiana': 'Ludhiana',\n",
       " 'Mansa': 'Mansa',\n",
       " 'Moga': 'Moga',\n",
       " 'Muktsar': 'Muktsar',\n",
       " 'Pathankot': 'Pathankot',\n",
       " 'Patiala': 'Patiala',\n",
       " 'Rupnagar': 'Rupnagar',\n",
       " 'SAS Nagar': 'SAS Nagar',\n",
       " 'Sangrur': 'Sangrur',\n",
       " 'SBS Nagar\\t': 'SBS Nagar\\t',\n",
       " 'Tarn Taran': 'Tarn Taran'}"
      ]
     },
     "execution_count": 44,
     "metadata": {},
     "output_type": "execute_result"
    }
   ],
   "source": [
    "state_id_map"
   ]
  },
  {
   "cell_type": "code",
   "execution_count": 45,
   "metadata": {},
   "outputs": [
    {
     "data": {
      "text/plain": [
       "{'name': 'Bathinda', 'id': 'Bathinda'}"
      ]
     },
     "execution_count": 45,
     "metadata": {},
     "output_type": "execute_result"
    }
   ],
   "source": [
    "punjab_districts['features'][2]['properties']"
   ]
  },
  {
   "cell_type": "code",
   "execution_count": 46,
   "metadata": {},
   "outputs": [],
   "source": [
    "df = pd.read_excel(\"data/data.xlsx\")\n",
    "df['id'] = df['District'].map(state_id_map)"
   ]
  },
  {
   "cell_type": "code",
   "execution_count": 47,
   "metadata": {},
   "outputs": [
    {
     "data": {
      "text/html": [
       "<div>\n",
       "<style scoped>\n",
       "    .dataframe tbody tr th:only-of-type {\n",
       "        vertical-align: middle;\n",
       "    }\n",
       "\n",
       "    .dataframe tbody tr th {\n",
       "        vertical-align: top;\n",
       "    }\n",
       "\n",
       "    .dataframe thead th {\n",
       "        text-align: right;\n",
       "    }\n",
       "</style>\n",
       "<table border=\"1\" class=\"dataframe\">\n",
       "  <thead>\n",
       "    <tr style=\"text-align: right;\">\n",
       "      <th></th>\n",
       "      <th>District</th>\n",
       "      <th>Headquarters</th>\n",
       "      <th>Population (2011)</th>\n",
       "      <th>Area (km²)[3]</th>\n",
       "      <th>Density (/km²)</th>\n",
       "      <th>Enforced Disappearances/Extrajudicial Executions</th>\n",
       "      <th>Extrajudicial Executions</th>\n",
       "      <th>Enforced Disappearances</th>\n",
       "      <th>id</th>\n",
       "    </tr>\n",
       "  </thead>\n",
       "  <tbody>\n",
       "    <tr>\n",
       "      <th>0</th>\n",
       "      <td>Amritsar</td>\n",
       "      <td>AM</td>\n",
       "      <td>2490891</td>\n",
       "      <td>2647</td>\n",
       "      <td>932</td>\n",
       "      <td>1641</td>\n",
       "      <td>1434</td>\n",
       "      <td>207</td>\n",
       "      <td>Amritsar</td>\n",
       "    </tr>\n",
       "    <tr>\n",
       "      <th>1</th>\n",
       "      <td>Barnala</td>\n",
       "      <td>BNL</td>\n",
       "      <td>596294</td>\n",
       "      <td>1410</td>\n",
       "      <td>419</td>\n",
       "      <td>68</td>\n",
       "      <td>45</td>\n",
       "      <td>23</td>\n",
       "      <td>Barnala</td>\n",
       "    </tr>\n",
       "    <tr>\n",
       "      <th>2</th>\n",
       "      <td>Bathinda</td>\n",
       "      <td>BA</td>\n",
       "      <td>1388859</td>\n",
       "      <td>3385</td>\n",
       "      <td>414</td>\n",
       "      <td>140</td>\n",
       "      <td>90</td>\n",
       "      <td>50</td>\n",
       "      <td>Bathinda</td>\n",
       "    </tr>\n",
       "    <tr>\n",
       "      <th>3</th>\n",
       "      <td>Faridkot</td>\n",
       "      <td>FR</td>\n",
       "      <td>618008</td>\n",
       "      <td>1469</td>\n",
       "      <td>424</td>\n",
       "      <td>62</td>\n",
       "      <td>52</td>\n",
       "      <td>10</td>\n",
       "      <td>Faridkot</td>\n",
       "    </tr>\n",
       "    <tr>\n",
       "      <th>4</th>\n",
       "      <td>Fatehgarh Sahib</td>\n",
       "      <td>FT</td>\n",
       "      <td>599814</td>\n",
       "      <td>1180</td>\n",
       "      <td>508</td>\n",
       "      <td>47</td>\n",
       "      <td>37</td>\n",
       "      <td>10</td>\n",
       "      <td>Fatehgarh Sahib</td>\n",
       "    </tr>\n",
       "  </tbody>\n",
       "</table>\n",
       "</div>"
      ],
      "text/plain": [
       "          District Headquarters  Population (2011)  Area (km²)[3]  \\\n",
       "0         Amritsar           AM            2490891           2647   \n",
       "1          Barnala          BNL             596294           1410   \n",
       "2         Bathinda           BA            1388859           3385   \n",
       "3         Faridkot           FR             618008           1469   \n",
       "4  Fatehgarh Sahib           FT             599814           1180   \n",
       "\n",
       "   Density (/km²)  Enforced Disappearances/Extrajudicial Executions  \\\n",
       "0             932                                              1641   \n",
       "1             419                                                68   \n",
       "2             414                                               140   \n",
       "3             424                                                62   \n",
       "4             508                                                47   \n",
       "\n",
       "   Extrajudicial Executions  Enforced Disappearances               id  \n",
       "0                      1434                      207         Amritsar  \n",
       "1                        45                       23          Barnala  \n",
       "2                        90                       50         Bathinda  \n",
       "3                        52                       10         Faridkot  \n",
       "4                        37                       10  Fatehgarh Sahib  "
      ]
     },
     "execution_count": 47,
     "metadata": {},
     "output_type": "execute_result"
    }
   ],
   "source": [
    "df.head()"
   ]
  },
  {
   "cell_type": "code",
   "execution_count": 48,
   "metadata": {},
   "outputs": [],
   "source": [
    "fig = px.choropleth(df, locations='id', geojson=\"punjabHigh.json\", color=\"Enforced Disappearances/Extrajudicial Executions\", scope=\"asia\", hover_name=\"District\",\n",
    "                    hover_data=[\"Headquarters\", \"Extrajudicial Executions\", \"Enforced Disappearances\", \"Population (2011)\", \"Area (km²)[3]\", \"Density (/km²)\"], color_continuous_scale=\"Viridis\")\n",
    "fig.update_geos(fitbounds=\"locations\", visible=False)\n",
    "fig.show()\n"
   ]
  }
 ],
 "metadata": {
  "interpreter": {
   "hash": "ad2bdc8ecc057115af97d19610ffacc2b4e99fae6737bb82f5d7fb13d2f2c186"
  },
  "kernelspec": {
   "display_name": "Python 3",
   "language": "python",
   "name": "python3"
  },
  "language_info": {
   "codemirror_mode": {
    "name": "ipython",
    "version": 3
   },
   "file_extension": ".py",
   "mimetype": "text/x-python",
   "name": "python",
   "nbconvert_exporter": "python",
   "pygments_lexer": "ipython3",
   "version": "3.8.8"
  }
 },
 "nbformat": 4,
 "nbformat_minor": 2
}
